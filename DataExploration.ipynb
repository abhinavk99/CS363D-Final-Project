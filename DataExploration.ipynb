{
 "cells": [
  {
   "cell_type": "code",
   "execution_count": 1,
   "metadata": {},
   "outputs": [],
   "source": [
    "import pandas as pd\n",
    "import numpy as np\n",
    "import matplotlib.pyplot as plt\n",
    "from IPython.display import display, HTML\n",
    "\n",
    "# Read data-engineered CSV.\n",
    "df = pd.read_csv('H-2B_Engineered_Data.csv')"
   ]
  },
  {
   "cell_type": "markdown",
   "metadata": {},
   "source": [
    "Let's do some additional data exploration on this cleaned data to get an idea of what type of data we're working with. Not only can this help us with regard to model selection and analyzing the performance of our produced predictive model, but it also gives a better understanding of the underlying data and why our model can be effective.\n",
    "\n",
    "To start with, let's explore some basic statistics for the entire dataset. We can begin with a simple analysis, checking modes for categorical features, and means and medians for numerical features. If so, we need to first separate (categorical and numeric) features out."
   ]
  },
  {
   "cell_type": "code",
   "execution_count": 2,
   "metadata": {},
   "outputs": [],
   "source": [
    "numeric_features = ['NBR_WORKERS_REQUESTED', \n",
    "                    'BASIC_NUMBER_OF_HOURS', \n",
    "                    'BASIC_RATE_OF_PAY', \n",
    "                    'SUPERVISE_HOW_MANY', \n",
    "                    'NUM_OF_MONTHS_TRAINING',\n",
    "                    'EMP_EXP_NUM_MONTHS',\n",
    "                    'WORK_DAY_LENGTH']\n",
    "\n",
    "categorical_features = [\"AGENT_POC_EMP_REP_BY_AGENT\", \n",
    "                        \"SOC_CODE\", \n",
    "                        \"NAICS_CODE\", \n",
    "                        \"FULL_TIME_POSITION\", \n",
    "                        \"NATURE_OF_TEMPORARY_NEED\", \n",
    "                        \"EDUCATION_LEVEL\", \n",
    "                        \"SWA_NAME\", \n",
    "                        \"CITY_MATCH\", \n",
    "                        \"STATE_MATCH\", \n",
    "                        \"DAYTIME_WORK\", \n",
    "                        \"HAS_OVERTIME\"]"
   ]
  },
  {
   "cell_type": "code",
   "execution_count": 3,
   "metadata": {},
   "outputs": [
    {
     "name": "stdout",
     "output_type": "stream",
     "text": [
      "Modes of categorical features.\n"
     ]
    },
    {
     "data": {
      "text/html": [
       "<div>\n",
       "<style scoped>\n",
       "    .dataframe tbody tr th:only-of-type {\n",
       "        vertical-align: middle;\n",
       "    }\n",
       "\n",
       "    .dataframe tbody tr th {\n",
       "        vertical-align: top;\n",
       "    }\n",
       "\n",
       "    .dataframe thead th {\n",
       "        text-align: right;\n",
       "    }\n",
       "</style>\n",
       "<table border=\"1\" class=\"dataframe\">\n",
       "  <thead>\n",
       "    <tr style=\"text-align: right;\">\n",
       "      <th></th>\n",
       "      <th>AGENT_POC_EMP_REP_BY_AGENT</th>\n",
       "      <th>SOC_CODE</th>\n",
       "      <th>NAICS_CODE</th>\n",
       "      <th>FULL_TIME_POSITION</th>\n",
       "      <th>NATURE_OF_TEMPORARY_NEED</th>\n",
       "      <th>EDUCATION_LEVEL</th>\n",
       "      <th>SWA_NAME</th>\n",
       "      <th>CITY_MATCH</th>\n",
       "      <th>STATE_MATCH</th>\n",
       "      <th>DAYTIME_WORK</th>\n",
       "      <th>HAS_OVERTIME</th>\n",
       "    </tr>\n",
       "  </thead>\n",
       "  <tbody>\n",
       "    <tr>\n",
       "      <th>0</th>\n",
       "      <td>1</td>\n",
       "      <td>37</td>\n",
       "      <td>56</td>\n",
       "      <td>1</td>\n",
       "      <td>seasonal</td>\n",
       "      <td>none</td>\n",
       "      <td>0</td>\n",
       "      <td>different</td>\n",
       "      <td>different</td>\n",
       "      <td>1.0</td>\n",
       "      <td>1</td>\n",
       "    </tr>\n",
       "  </tbody>\n",
       "</table>\n",
       "</div>"
      ],
      "text/plain": [
       "   AGENT_POC_EMP_REP_BY_AGENT  SOC_CODE  NAICS_CODE  FULL_TIME_POSITION  \\\n",
       "0                           1        37          56                   1   \n",
       "\n",
       "  NATURE_OF_TEMPORARY_NEED EDUCATION_LEVEL  SWA_NAME CITY_MATCH STATE_MATCH  \\\n",
       "0                 seasonal            none         0  different   different   \n",
       "\n",
       "   DAYTIME_WORK  HAS_OVERTIME  \n",
       "0           1.0             1  "
      ]
     },
     "metadata": {},
     "output_type": "display_data"
    },
    {
     "name": "stdout",
     "output_type": "stream",
     "text": [
      "\n",
      "\n",
      "Means of numeric features.\n"
     ]
    },
    {
     "data": {
      "text/plain": [
       "NBR_WORKERS_REQUESTED     18.740979\n",
       "BASIC_NUMBER_OF_HOURS     38.728878\n",
       "BASIC_RATE_OF_PAY         51.451810\n",
       "SUPERVISE_HOW_MANY         0.160856\n",
       "NUM_OF_MONTHS_TRAINING     0.100765\n",
       "EMP_EXP_NUM_MONTHS         2.089908\n",
       "WORK_DAY_LENGTH            9.111570\n",
       "dtype: float64"
      ]
     },
     "metadata": {},
     "output_type": "display_data"
    },
    {
     "name": "stdout",
     "output_type": "stream",
     "text": [
      "\n",
      "\n",
      "Medians of numeric features.\n"
     ]
    },
    {
     "data": {
      "text/plain": [
       "NBR_WORKERS_REQUESTED     10.00\n",
       "BASIC_NUMBER_OF_HOURS     40.00\n",
       "BASIC_RATE_OF_PAY         13.91\n",
       "SUPERVISE_HOW_MANY         0.00\n",
       "NUM_OF_MONTHS_TRAINING     0.00\n",
       "EMP_EXP_NUM_MONTHS         0.00\n",
       "WORK_DAY_LENGTH            9.00\n",
       "dtype: float64"
      ]
     },
     "metadata": {},
     "output_type": "display_data"
    },
    {
     "name": "stdout",
     "output_type": "stream",
     "text": [
      "\n",
      "\n"
     ]
    }
   ],
   "source": [
    "print(\"Modes of categorical features.\")\n",
    "display(df[categorical_features].mode())\n",
    "print(\"\\n\")\n",
    "\n",
    "print(\"Means of numeric features.\")\n",
    "display(df[numeric_features].mean())\n",
    "print(\"\\n\")\n",
    "\n",
    "print(\"Medians of numeric features.\")\n",
    "display(df[numeric_features].median())\n",
    "print(\"\\n\")"
   ]
  },
  {
   "cell_type": "markdown",
   "metadata": {},
   "source": [
    "Right off the bat, we can make some observations, some of which are particularly interesting to explore.\n",
    "\n",
    "In general, it looks like many of these jobs are full-time jobs, occurring for about 9 hours during the daytime with overtime pay as needed, for a median of 40 hours a week. Given that these jobs are for temporary labor certifications (specifically, seasonal), it's not surprising that most of these jobs do not include supervising others, require training, or require any amount of prior experience. The primary SOC code associated with these applications is \"Building and Grounds Cleaning and Maintenance Occupations\", and the most common NAICS code is \"Administrative and Support and Waste Management and Remediation Services\".\n",
    "\n",
    "Interestingly, both the modes for CITY_MATCH and STATE_MATCH are \"different\", meaning that the agents or attorneys hired to represent H-2B applications are located in both different states and cities. This might differ when we look at \"certified-only\" or \"denied-only\" applications, but this presents a trend that employers are relying on attorneys that are more specialized with dealing with H-2B visas as opposed to hiring more local, general attorneys.\n",
    "\n",
    "Finally, some interesting notes from the \"mean\" statistics. The BASIC_RATE_OF_PAY is exceptionally high, making me wonder if there are outliers in the dataset with regard to high paying jobs, and if these outliers are specifically associated with denials. NBR_WORKERS_REQUESTED is also higher, and it'll be interesting to see if requesting more workers is associated with better or worse outcomes."
   ]
  },
  {
   "cell_type": "markdown",
   "metadata": {},
   "source": [
    "Now, let's explore what a \"generic\" certified application and denied application might look like. We can begin with a simple analysis, once again checking modes, medians, and means.\n",
    "\n",
    "We need to separate (categorical and numeric) features out."
   ]
  },
  {
   "cell_type": "code",
   "execution_count": 4,
   "metadata": {},
   "outputs": [
    {
     "name": "stdout",
     "output_type": "stream",
     "text": [
      "Certified applications.\n",
      "\n",
      "Modes of categorical features.\n"
     ]
    },
    {
     "data": {
      "text/html": [
       "<div>\n",
       "<style scoped>\n",
       "    .dataframe tbody tr th:only-of-type {\n",
       "        vertical-align: middle;\n",
       "    }\n",
       "\n",
       "    .dataframe tbody tr th {\n",
       "        vertical-align: top;\n",
       "    }\n",
       "\n",
       "    .dataframe thead th {\n",
       "        text-align: right;\n",
       "    }\n",
       "</style>\n",
       "<table border=\"1\" class=\"dataframe\">\n",
       "  <thead>\n",
       "    <tr style=\"text-align: right;\">\n",
       "      <th></th>\n",
       "      <th>AGENT_POC_EMP_REP_BY_AGENT</th>\n",
       "      <th>SOC_CODE</th>\n",
       "      <th>NAICS_CODE</th>\n",
       "      <th>FULL_TIME_POSITION</th>\n",
       "      <th>NATURE_OF_TEMPORARY_NEED</th>\n",
       "      <th>EDUCATION_LEVEL</th>\n",
       "      <th>SWA_NAME</th>\n",
       "      <th>CITY_MATCH</th>\n",
       "      <th>STATE_MATCH</th>\n",
       "      <th>DAYTIME_WORK</th>\n",
       "      <th>HAS_OVERTIME</th>\n",
       "    </tr>\n",
       "  </thead>\n",
       "  <tbody>\n",
       "    <tr>\n",
       "      <th>0</th>\n",
       "      <td>1</td>\n",
       "      <td>37</td>\n",
       "      <td>56</td>\n",
       "      <td>1</td>\n",
       "      <td>seasonal</td>\n",
       "      <td>none</td>\n",
       "      <td>0</td>\n",
       "      <td>different</td>\n",
       "      <td>different</td>\n",
       "      <td>1.0</td>\n",
       "      <td>1</td>\n",
       "    </tr>\n",
       "  </tbody>\n",
       "</table>\n",
       "</div>"
      ],
      "text/plain": [
       "   AGENT_POC_EMP_REP_BY_AGENT  SOC_CODE  NAICS_CODE  FULL_TIME_POSITION  \\\n",
       "0                           1        37          56                   1   \n",
       "\n",
       "  NATURE_OF_TEMPORARY_NEED EDUCATION_LEVEL  SWA_NAME CITY_MATCH STATE_MATCH  \\\n",
       "0                 seasonal            none         0  different   different   \n",
       "\n",
       "   DAYTIME_WORK  HAS_OVERTIME  \n",
       "0           1.0             1  "
      ]
     },
     "metadata": {},
     "output_type": "display_data"
    },
    {
     "name": "stdout",
     "output_type": "stream",
     "text": [
      "\n",
      "\n",
      "Means of numeric features.\n"
     ]
    },
    {
     "data": {
      "text/plain": [
       "NBR_WORKERS_REQUESTED     18.339245\n",
       "BASIC_NUMBER_OF_HOURS     38.661680\n",
       "BASIC_RATE_OF_PAY         21.957675\n",
       "SUPERVISE_HOW_MANY         0.148322\n",
       "NUM_OF_MONTHS_TRAINING     0.025561\n",
       "EMP_EXP_NUM_MONTHS         1.625630\n",
       "WORK_DAY_LENGTH            9.119863\n",
       "dtype: float64"
      ]
     },
     "metadata": {},
     "output_type": "display_data"
    },
    {
     "name": "stdout",
     "output_type": "stream",
     "text": [
      "\n",
      "\n",
      "Medians of numeric features.\n"
     ]
    },
    {
     "data": {
      "text/plain": [
       "NBR_WORKERS_REQUESTED     10.00\n",
       "BASIC_NUMBER_OF_HOURS     40.00\n",
       "BASIC_RATE_OF_PAY         13.86\n",
       "SUPERVISE_HOW_MANY         0.00\n",
       "NUM_OF_MONTHS_TRAINING     0.00\n",
       "EMP_EXP_NUM_MONTHS         0.00\n",
       "WORK_DAY_LENGTH            8.75\n",
       "dtype: float64"
      ]
     },
     "metadata": {},
     "output_type": "display_data"
    },
    {
     "name": "stdout",
     "output_type": "stream",
     "text": [
      "\n",
      "\n",
      "Maxes of numeric features.\n"
     ]
    },
    {
     "data": {
      "text/plain": [
       "NBR_WORKERS_REQUESTED      600.000000\n",
       "BASIC_NUMBER_OF_HOURS       50.000000\n",
       "BASIC_RATE_OF_PAY         3500.000000\n",
       "SUPERVISE_HOW_MANY          45.000000\n",
       "NUM_OF_MONTHS_TRAINING      48.000000\n",
       "EMP_EXP_NUM_MONTHS          60.000000\n",
       "WORK_DAY_LENGTH             23.916667\n",
       "dtype: float64"
      ]
     },
     "metadata": {},
     "output_type": "display_data"
    },
    {
     "name": "stdout",
     "output_type": "stream",
     "text": [
      "\n",
      "\n",
      "90th quantile of numeric features.\n"
     ]
    },
    {
     "data": {
      "text/plain": [
       "NBR_WORKERS_REQUESTED     40.00\n",
       "BASIC_NUMBER_OF_HOURS     40.00\n",
       "BASIC_RATE_OF_PAY         17.05\n",
       "SUPERVISE_HOW_MANY         0.00\n",
       "NUM_OF_MONTHS_TRAINING     0.00\n",
       "EMP_EXP_NUM_MONTHS         3.00\n",
       "WORK_DAY_LENGTH           11.00\n",
       "Name: 0.9, dtype: float64"
      ]
     },
     "metadata": {},
     "output_type": "display_data"
    },
    {
     "name": "stdout",
     "output_type": "stream",
     "text": [
      "\n",
      "\n"
     ]
    }
   ],
   "source": [
    "df_certified = df.loc[df[\"CASE_STATUS\"] == 1]\n",
    "print(\"Certified applications.\\n\")\n",
    "\n",
    "print(\"Modes of categorical features.\")\n",
    "display(df_certified[categorical_features].mode())\n",
    "print(\"\\n\")\n",
    "\n",
    "print(\"Means of numeric features.\")\n",
    "display(df_certified[numeric_features].mean())\n",
    "print(\"\\n\")\n",
    "\n",
    "print(\"Medians of numeric features.\")\n",
    "display(df_certified[numeric_features].median())\n",
    "print(\"\\n\")\n",
    "\n",
    "print(\"Maxes of numeric features.\")\n",
    "display(df_certified[numeric_features].max())\n",
    "print(\"\\n\")\n",
    "\n",
    "print(\"90th quantile of numeric features.\")\n",
    "display(df_certified[numeric_features].quantile(q = 0.9))\n",
    "print(\"\\n\")"
   ]
  },
  {
   "cell_type": "code",
   "execution_count": 5,
   "metadata": {},
   "outputs": [
    {
     "name": "stdout",
     "output_type": "stream",
     "text": [
      "Denied applications.\n",
      "\n",
      "Modes of categorical features.\n"
     ]
    },
    {
     "data": {
      "text/html": [
       "<div>\n",
       "<style scoped>\n",
       "    .dataframe tbody tr th:only-of-type {\n",
       "        vertical-align: middle;\n",
       "    }\n",
       "\n",
       "    .dataframe tbody tr th {\n",
       "        vertical-align: top;\n",
       "    }\n",
       "\n",
       "    .dataframe thead th {\n",
       "        text-align: right;\n",
       "    }\n",
       "</style>\n",
       "<table border=\"1\" class=\"dataframe\">\n",
       "  <thead>\n",
       "    <tr style=\"text-align: right;\">\n",
       "      <th></th>\n",
       "      <th>AGENT_POC_EMP_REP_BY_AGENT</th>\n",
       "      <th>SOC_CODE</th>\n",
       "      <th>NAICS_CODE</th>\n",
       "      <th>FULL_TIME_POSITION</th>\n",
       "      <th>NATURE_OF_TEMPORARY_NEED</th>\n",
       "      <th>EDUCATION_LEVEL</th>\n",
       "      <th>SWA_NAME</th>\n",
       "      <th>CITY_MATCH</th>\n",
       "      <th>STATE_MATCH</th>\n",
       "      <th>DAYTIME_WORK</th>\n",
       "      <th>HAS_OVERTIME</th>\n",
       "    </tr>\n",
       "  </thead>\n",
       "  <tbody>\n",
       "    <tr>\n",
       "      <th>0</th>\n",
       "      <td>1</td>\n",
       "      <td>47</td>\n",
       "      <td>23</td>\n",
       "      <td>1</td>\n",
       "      <td>peakload</td>\n",
       "      <td>none</td>\n",
       "      <td>0</td>\n",
       "      <td>different</td>\n",
       "      <td>same</td>\n",
       "      <td>1.0</td>\n",
       "      <td>1</td>\n",
       "    </tr>\n",
       "  </tbody>\n",
       "</table>\n",
       "</div>"
      ],
      "text/plain": [
       "   AGENT_POC_EMP_REP_BY_AGENT  SOC_CODE  NAICS_CODE  FULL_TIME_POSITION  \\\n",
       "0                           1        47          23                   1   \n",
       "\n",
       "  NATURE_OF_TEMPORARY_NEED EDUCATION_LEVEL  SWA_NAME CITY_MATCH STATE_MATCH  \\\n",
       "0                 peakload            none         0  different        same   \n",
       "\n",
       "   DAYTIME_WORK  HAS_OVERTIME  \n",
       "0           1.0             1  "
      ]
     },
     "metadata": {},
     "output_type": "display_data"
    },
    {
     "name": "stdout",
     "output_type": "stream",
     "text": [
      "\n",
      "\n",
      "Means of numeric features.\n"
     ]
    },
    {
     "data": {
      "text/plain": [
       "NBR_WORKERS_REQUESTED      21.669202\n",
       "BASIC_NUMBER_OF_HOURS      39.218682\n",
       "BASIC_RATE_OF_PAY         266.433777\n",
       "SUPERVISE_HOW_MANY          0.252218\n",
       "NUM_OF_MONTHS_TRAINING      0.648923\n",
       "EMP_EXP_NUM_MONTHS          5.474018\n",
       "WORK_DAY_LENGTH             9.051120\n",
       "dtype: float64"
      ]
     },
     "metadata": {},
     "output_type": "display_data"
    },
    {
     "name": "stdout",
     "output_type": "stream",
     "text": [
      "\n",
      "\n",
      "Medians of numeric features.\n"
     ]
    },
    {
     "data": {
      "text/plain": [
       "NBR_WORKERS_REQUESTED     10.00\n",
       "BASIC_NUMBER_OF_HOURS     40.00\n",
       "BASIC_RATE_OF_PAY         14.68\n",
       "SUPERVISE_HOW_MANY         0.00\n",
       "NUM_OF_MONTHS_TRAINING     0.00\n",
       "EMP_EXP_NUM_MONTHS         0.00\n",
       "WORK_DAY_LENGTH            9.00\n",
       "dtype: float64"
      ]
     },
     "metadata": {},
     "output_type": "display_data"
    },
    {
     "name": "stdout",
     "output_type": "stream",
     "text": [
      "\n",
      "\n",
      "Maxes of numeric features.\n"
     ]
    },
    {
     "data": {
      "text/plain": [
       "NBR_WORKERS_REQUESTED       350.0\n",
       "BASIC_NUMBER_OF_HOURS        70.0\n",
       "BASIC_RATE_OF_PAY         65000.0\n",
       "SUPERVISE_HOW_MANY           30.0\n",
       "NUM_OF_MONTHS_TRAINING       60.0\n",
       "EMP_EXP_NUM_MONTHS          120.0\n",
       "WORK_DAY_LENGTH              24.0\n",
       "dtype: float64"
      ]
     },
     "metadata": {},
     "output_type": "display_data"
    },
    {
     "name": "stdout",
     "output_type": "stream",
     "text": [
      "\n",
      "\n",
      "90th quantile of numeric features.\n"
     ]
    },
    {
     "data": {
      "text/plain": [
       "NBR_WORKERS_REQUESTED     50.0\n",
       "BASIC_NUMBER_OF_HOURS     40.0\n",
       "BASIC_RATE_OF_PAY         22.4\n",
       "SUPERVISE_HOW_MANY         0.0\n",
       "NUM_OF_MONTHS_TRAINING     0.0\n",
       "EMP_EXP_NUM_MONTHS        17.6\n",
       "WORK_DAY_LENGTH           10.5\n",
       "Name: 0.9, dtype: float64"
      ]
     },
     "metadata": {},
     "output_type": "display_data"
    },
    {
     "name": "stdout",
     "output_type": "stream",
     "text": [
      "\n",
      "\n"
     ]
    }
   ],
   "source": [
    "df_denied = df.loc[df[\"CASE_STATUS\"] == 0]\n",
    "print(\"Denied applications.\\n\")\n",
    "\n",
    "print(\"Modes of categorical features.\")\n",
    "display(df_denied[categorical_features].mode())\n",
    "print(\"\\n\")\n",
    "\n",
    "print(\"Means of numeric features.\")\n",
    "display(df_denied[numeric_features].mean())\n",
    "print(\"\\n\")\n",
    "\n",
    "print(\"Medians of numeric features.\")\n",
    "display(df_denied[numeric_features].median())\n",
    "print(\"\\n\")\n",
    "\n",
    "print(\"Maxes of numeric features.\")\n",
    "display(df_denied[numeric_features].max())\n",
    "print(\"\\n\")\n",
    "\n",
    "print(\"90th quantile of numeric features.\")\n",
    "display(df_denied[numeric_features].quantile(q = 0.9))\n",
    "print(\"\\n\")"
   ]
  },
  {
   "cell_type": "markdown",
   "metadata": {},
   "source": [
    "Unfortunately, this doesn't immediately provide us with a perfect \"generic\" view of the archtypical certified or denied application, but it does provide us with some interesting insights that do follow up on my prior queries. Let's get started!\n",
    "\n",
    "First off, for certified applications, we get some pretty similar results to that of the overall dataset. Looking at the maxes for the numeric features, it's quite surprising to see that some very outlandish values (3500 for basic rate of pay, 23.9 hours for work day length) were part of applications that were ultimately certified. Looking at the 90th quantile, however, we can see that these outlandish values are very rare, and even at the 90th quantile, more realistic values reign supreme.\n",
    "\n",
    "Looking at denied applications now. \n",
    "\n",
    "Within the modes for categorical features, we can see some differences from the complete dataset and the certified applications. For one thing, the most common SOC and NAICS codes for denied applications are \"Construction and Extraction Occupations\" and \"Construction\". Given that the rationale for issuing the H-2B visa requires that \"there are not sufficient U.S. workers who are capable of performing the temporary services or labor\", it might be that more of these applications relating to construction are rejected on their failure to satisfy this condition. We can also see that the mode for nature of temporary need has shifted to peakload rather than seasonal, which might again be more difficult to justify than a seasonal need for workers. Finally, the mode for STATE_MATCH has shifted to \"same\", which could be explained by the idea that applications that rely more on local attorneys or agents rather than highly specialized attorneys and agents might be less likely to be certified on the basis of their hypothetically weaker legal support. These differences lend insight into important features that our prediction model can use to perform classification on these applications.\n",
    "\n",
    "Looking at numerical features, starting with the mean values, we can immediately see a problem where the mean for basic rate of pay is more than 266 dollars, highlighting that a massive outlier exists in the data of denied applications. Moving onwards to the maxes, we can see the source of this outlier, where an application with a basic rate of pay of 65000 dollars was rejected. This might be a mistaken value entry by the applying source (meant to represent yearly salary rather than hourly), but such mistakes could be representative of a sloppy application that's less likely to be certified. In general, from looking at the 90th quantile values, rejected applications are more likely to require greater pay and experience."
   ]
  },
  {
   "cell_type": "markdown",
   "metadata": {},
   "source": [
    "Finally, let's take a closer look at the differences between the distribution of specific features in order to get a better idea of the relative distributions of certain features between certified and denied applications.\n",
    "\n",
    "We'll start with categorical features, using their (normalized) value counts."
   ]
  },
  {
   "cell_type": "code",
   "execution_count": 6,
   "metadata": {},
   "outputs": [
    {
     "name": "stdout",
     "output_type": "stream",
     "text": [
      "AGENT_POC_EMP_REP_BY_AGENT\n",
      "Certified applications:\n"
     ]
    },
    {
     "data": {
      "text/plain": [
       "1    0.960181\n",
       "0    0.039819\n",
       "Name: AGENT_POC_EMP_REP_BY_AGENT, dtype: float64"
      ]
     },
     "metadata": {},
     "output_type": "display_data"
    },
    {
     "name": "stdout",
     "output_type": "stream",
     "text": [
      "Denied applications:\n"
     ]
    },
    {
     "data": {
      "text/plain": [
       "1    0.709759\n",
       "0    0.290241\n",
       "Name: AGENT_POC_EMP_REP_BY_AGENT, dtype: float64"
      ]
     },
     "metadata": {},
     "output_type": "display_data"
    },
    {
     "name": "stdout",
     "output_type": "stream",
     "text": [
      "\n",
      "\n",
      "SOC_CODE\n"
     ]
    },
    {
     "data": {
      "image/png": "[encoded data removed]",
      "text/plain": [
       "<Figure size 432x288 with 1 Axes>"
      ]
     },
     "metadata": {
      "needs_background": "light"
     },
     "output_type": "display_data"
    },
    {
     "name": "stdout",
     "output_type": "stream",
     "text": [
      "\n",
      "\n",
      "NAICS_CODE\n"
     ]
    },
    {
     "data": {
      "image/png": "[encoded data removed]",
      "text/plain": [
       "<Figure size 432x288 with 1 Axes>"
      ]
     },
     "metadata": {
      "needs_background": "light"
     },
     "output_type": "display_data"
    },
    {
     "name": "stdout",
     "output_type": "stream",
     "text": [
      "\n",
      "\n",
      "FULL_TIME_POSITION\n",
      "Certified applications:\n"
     ]
    },
    {
     "data": {
      "text/plain": [
       "1    0.998087\n",
       "0    0.001913\n",
       "Name: FULL_TIME_POSITION, dtype: float64"
      ]
     },
     "metadata": {},
     "output_type": "display_data"
    },
    {
     "name": "stdout",
     "output_type": "stream",
     "text": [
      "Denied applications:\n"
     ]
    },
    {
     "data": {
      "text/plain": [
       "1    0.991128\n",
       "0    0.008872\n",
       "Name: FULL_TIME_POSITION, dtype: float64"
      ]
     },
     "metadata": {},
     "output_type": "display_data"
    },
    {
     "name": "stdout",
     "output_type": "stream",
     "text": [
      "\n",
      "\n",
      "NATURE_OF_TEMPORARY_NEED\n",
      "Certified applications:\n"
     ]
    },
    {
     "data": {
      "text/plain": [
       "seasonal               0.560077\n",
       "peakload               0.434707\n",
       "one-time occurrence    0.004869\n",
       "intermittent           0.000348\n",
       "Name: NATURE_OF_TEMPORARY_NEED, dtype: float64"
      ]
     },
     "metadata": {},
     "output_type": "display_data"
    },
    {
     "name": "stdout",
     "output_type": "stream",
     "text": [
      "Denied applications:\n"
     ]
    },
    {
     "data": {
      "text/plain": [
       "peakload               0.501901\n",
       "seasonal               0.365019\n",
       "one-time occurrence    0.095057\n",
       "intermittent           0.038023\n",
       "Name: NATURE_OF_TEMPORARY_NEED, dtype: float64"
      ]
     },
     "metadata": {},
     "output_type": "display_data"
    },
    {
     "name": "stdout",
     "output_type": "stream",
     "text": [
      "\n",
      "\n",
      "EDUCATION_LEVEL\n",
      "Certified applications:\n"
     ]
    },
    {
     "data": {
      "text/plain": [
       "none                           0.970092\n",
       "high school/ged                0.022953\n",
       "associate's                    0.005738\n",
       "bachelor's                     0.001043\n",
       "other degree (jd, md, etc.)    0.000174\n",
       "Name: EDUCATION_LEVEL, dtype: float64"
      ]
     },
     "metadata": {},
     "output_type": "display_data"
    },
    {
     "name": "stdout",
     "output_type": "stream",
     "text": [
      "Denied applications:\n"
     ]
    },
    {
     "data": {
      "text/plain": [
       "none                           0.832700\n",
       "high school/ged                0.147022\n",
       "bachelor's                     0.011407\n",
       "other degree (jd, md, etc.)    0.005070\n",
       "associate's                    0.003802\n",
       "Name: EDUCATION_LEVEL, dtype: float64"
      ]
     },
     "metadata": {},
     "output_type": "display_data"
    },
    {
     "name": "stdout",
     "output_type": "stream",
     "text": [
      "\n",
      "\n",
      "SWA_NAME\n",
      "Certified applications:\n"
     ]
    },
    {
     "data": {
      "text/plain": [
       "0    0.994436\n",
       "1    0.005564\n",
       "Name: SWA_NAME, dtype: float64"
      ]
     },
     "metadata": {},
     "output_type": "display_data"
    },
    {
     "name": "stdout",
     "output_type": "stream",
     "text": [
      "Denied applications:\n"
     ]
    },
    {
     "data": {
      "text/plain": [
       "0    0.972117\n",
       "1    0.027883\n",
       "Name: SWA_NAME, dtype: float64"
      ]
     },
     "metadata": {},
     "output_type": "display_data"
    },
    {
     "name": "stdout",
     "output_type": "stream",
     "text": [
      "\n",
      "\n",
      "CITY_MATCH\n",
      "Certified applications:\n"
     ]
    },
    {
     "data": {
      "text/plain": [
       "different    0.934098\n",
       "no_rep       0.039819\n",
       "same         0.026082\n",
       "Name: CITY_MATCH, dtype: float64"
      ]
     },
     "metadata": {},
     "output_type": "display_data"
    },
    {
     "name": "stdout",
     "output_type": "stream",
     "text": [
      "Denied applications:\n"
     ]
    },
    {
     "data": {
      "text/plain": [
       "different    0.623574\n",
       "no_rep       0.290241\n",
       "same         0.086185\n",
       "Name: CITY_MATCH, dtype: float64"
      ]
     },
     "metadata": {},
     "output_type": "display_data"
    },
    {
     "name": "stdout",
     "output_type": "stream",
     "text": [
      "\n",
      "\n",
      "STATE_MATCH\n",
      "Certified applications:\n"
     ]
    },
    {
     "data": {
      "text/plain": [
       "different    0.653625\n",
       "same         0.306555\n",
       "no_rep       0.039819\n",
       "Name: STATE_MATCH, dtype: float64"
      ]
     },
     "metadata": {},
     "output_type": "display_data"
    },
    {
     "name": "stdout",
     "output_type": "stream",
     "text": [
      "Denied applications:\n"
     ]
    },
    {
     "data": {
      "text/plain": [
       "same         0.368821\n",
       "different    0.340938\n",
       "no_rep       0.290241\n",
       "Name: STATE_MATCH, dtype: float64"
      ]
     },
     "metadata": {},
     "output_type": "display_data"
    },
    {
     "name": "stdout",
     "output_type": "stream",
     "text": [
      "\n",
      "\n",
      "DAYTIME_WORK\n",
      "Certified applications:\n"
     ]
    },
    {
     "data": {
      "text/plain": [
       "1.0    0.866806\n",
       "0.0    0.133194\n",
       "Name: DAYTIME_WORK, dtype: float64"
      ]
     },
     "metadata": {},
     "output_type": "display_data"
    },
    {
     "name": "stdout",
     "output_type": "stream",
     "text": [
      "Denied applications:\n"
     ]
    },
    {
     "data": {
      "text/plain": [
       "1.0    0.904943\n",
       "0.0    0.095057\n",
       "Name: DAYTIME_WORK, dtype: float64"
      ]
     },
     "metadata": {},
     "output_type": "display_data"
    },
    {
     "name": "stdout",
     "output_type": "stream",
     "text": [
      "\n",
      "\n",
      "HAS_OVERTIME\n",
      "Certified applications:\n"
     ]
    },
    {
     "data": {
      "text/plain": [
       "1    0.886976\n",
       "0    0.113024\n",
       "Name: HAS_OVERTIME, dtype: float64"
      ]
     },
     "metadata": {},
     "output_type": "display_data"
    },
    {
     "name": "stdout",
     "output_type": "stream",
     "text": [
      "Denied applications:\n"
     ]
    },
    {
     "data": {
      "text/plain": [
       "1    0.700887\n",
       "0    0.299113\n",
       "Name: HAS_OVERTIME, dtype: float64"
      ]
     },
     "metadata": {},
     "output_type": "display_data"
    },
    {
     "name": "stdout",
     "output_type": "stream",
     "text": [
      "\n",
      "\n"
     ]
    }
   ],
   "source": [
    "import matplotlib.pyplot as plt\n",
    "\n",
    "for feature in categorical_features:\n",
    "    certified_vc = df_certified[feature].value_counts(normalize = True)\n",
    "    denied_vc = df_denied[feature].value_counts(normalize = True)\n",
    "    print(feature)\n",
    "    \n",
    "    if feature != \"SOC_CODE\" and feature != \"NAICS_CODE\":\n",
    "        # Categorical features with fewer possible values, show value counts.\n",
    "        print(\"Certified applications:\")\n",
    "        display(certified_vc)\n",
    "        print(\"Denied applications:\")\n",
    "        display(denied_vc)\n",
    "    else:\n",
    "        # Categorical features with more possible values, represent distribution using bar graph.\n",
    "        fig, ax = plt.subplots()\n",
    "        fig.autofmt_xdate()\n",
    "        total_len = len(certified_vc.index) + len(denied_vc.index)\n",
    "        width = total_len / 100\n",
    "        ax.bar(certified_vc.index - width, certified_vc, width, label=\"certified\", color=['green'])\n",
    "        ax.bar(denied_vc.index + width, denied_vc, width, label=\"denied\", color=['red'])\n",
    "        ax.set_ylabel(\"% of applications with this feature value\")\n",
    "        ax.set_xlabel(feature)\n",
    "        ax.legend()\n",
    "        plt.show()\n",
    "        \n",
    "    print(\"\\n\")"
   ]
  },
  {
   "cell_type": "markdown",
   "metadata": {},
   "source": [
    "Looking at the distributions for the features above confirms some of the trends identified earlier. \n",
    "\n",
    "The plots of the NAICS and SOC codes visualize the job types that are associated with certified and denied applications. Importantly, the differing distributions of said codes highlights that the job type associated with some application is relevantly correlated with an application's certification status.\n",
    "\n",
    "Examining the shapes of other features also shows empirically expected results, such as an increase in applications without attorney representation among denied applications, or an increase in denial rates for jobs which by nature are intermittent or one-time. Among the more interesting trends shown by the shape of the data is that a higher proportion of denied applications required a high school/ged education level than those among certified applications, showcasing an interesting bias against jobs associated with more skill, and that a higher percentage of jobs that were certified offered to pay overtime than jobs that were denied.\n",
    "\n",
    "The trends observed in the categorical features of the data provide potential predictors the model could use to classify."
   ]
  },
  {
   "cell_type": "markdown",
   "metadata": {},
   "source": [
    "Finally, let's look at numeric features, using histograms of their normalized value counts."
   ]
  },
  {
   "cell_type": "code",
   "execution_count": 7,
   "metadata": {},
   "outputs": [
    {
     "name": "stdout",
     "output_type": "stream",
     "text": [
      "NBR_WORKERS_REQUESTED\n"
     ]
    },
    {
     "data": {
      "image/png": "[encoded data removed]",
      "text/plain": [
       "<Figure size 432x288 with 1 Axes>"
      ]
     },
     "metadata": {
      "needs_background": "light"
     },
     "output_type": "display_data"
    },
    {
     "name": "stdout",
     "output_type": "stream",
     "text": [
      "\n",
      "\n",
      "BASIC_NUMBER_OF_HOURS\n"
     ]
    },
    {
     "data": {
      "image/png": "[encoded data removed]",
      "text/plain": [
       "<Figure size 432x288 with 1 Axes>"
      ]
     },
     "metadata": {
      "needs_background": "light"
     },
     "output_type": "display_data"
    },
    {
     "name": "stdout",
     "output_type": "stream",
     "text": [
      "\n",
      "\n",
      "BASIC_RATE_OF_PAY\n"
     ]
    },
    {
     "data": {
      "image/png": "[encoded data removed]",
      "text/plain": [
       "<Figure size 432x288 with 1 Axes>"
      ]
     },
     "metadata": {
      "needs_background": "light"
     },
     "output_type": "display_data"
    },
    {
     "name": "stdout",
     "output_type": "stream",
     "text": [
      "\n",
      "\n",
      "SUPERVISE_HOW_MANY\n"
     ]
    },
    {
     "data": {
      "image/png": "[encoded data removed]",
      "text/plain": [
       "<Figure size 432x288 with 1 Axes>"
      ]
     },
     "metadata": {
      "needs_background": "light"
     },
     "output_type": "display_data"
    },
    {
     "name": "stdout",
     "output_type": "stream",
     "text": [
      "\n",
      "\n",
      "NUM_OF_MONTHS_TRAINING\n"
     ]
    },
    {
     "data": {
      "image/png": "[encoded data removed]",
      "text/plain": [
       "<Figure size 432x288 with 1 Axes>"
      ]
     },
     "metadata": {
      "needs_background": "light"
     },
     "output_type": "display_data"
    },
    {
     "name": "stdout",
     "output_type": "stream",
     "text": [
      "\n",
      "\n",
      "EMP_EXP_NUM_MONTHS\n"
     ]
    },
    {
     "data": {
      "image/png": "[encoded data removed]",
      "text/plain": [
       "<Figure size 432x288 with 1 Axes>"
      ]
     },
     "metadata": {
      "needs_background": "light"
     },
     "output_type": "display_data"
    },
    {
     "name": "stdout",
     "output_type": "stream",
     "text": [
      "\n",
      "\n",
      "WORK_DAY_LENGTH\n"
     ]
    },
    {
     "data": {
      "image/png": "[encoded data removed]",
      "text/plain": [
       "<Figure size 432x288 with 1 Axes>"
      ]
     },
     "metadata": {
      "needs_background": "light"
     },
     "output_type": "display_data"
    },
    {
     "name": "stdout",
     "output_type": "stream",
     "text": [
      "\n",
      "\n"
     ]
    }
   ],
   "source": [
    "for feature in numeric_features:\n",
    "    print(feature)\n",
    "    certified_mean, certified_std_dev = df_certified[feature].mean(), df_certified[feature].std()\n",
    "    denied_mean, denied_std_dev = df_denied[feature].mean(), df_denied[feature].std()\n",
    "    \n",
    "    # Keep points to within 3 standard deviations of the mean to better visualize distribution\n",
    "    certified_values = df_certified.loc[np.abs(df_certified[feature] - certified_mean) <= 3 * certified_std_dev][feature]\n",
    "    denied_values = df_denied.loc[np.abs(df_denied[feature] - denied_mean) <= 3 * denied_std_dev][feature]\n",
    "\n",
    "    certified_vc_counts = certified_values.value_counts(normalize = True)\n",
    "    denied_vc_counts = denied_values.value_counts(normalize = True)\n",
    "    \n",
    "    fig, ax = plt.subplots()\n",
    "    fig.autofmt_xdate()\n",
    "    \n",
    "    max_v = max(np.max(certified_values), np.max(denied_values))\n",
    "    min_v = min(np.min(certified_values), np.min(denied_values))\n",
    "    \n",
    "    bins = np.linspace(min_v, max_v, 50)\n",
    "    plt.hist([certified_vc_counts.index, denied_vc_counts.index], bins, weights=[certified_vc_counts.values, denied_vc_counts.values], alpha=0.5, label=['certified', 'denied'], color=['green', 'red'])\n",
    "    ax.set_ylabel(\"% of applications with this feature value\")\n",
    "    ax.set_xlabel(feature)\n",
    "    ax.legend()\n",
    "    plt.show()\n",
    "    print(\"\\n\")"
   ]
  },
  {
   "cell_type": "markdown",
   "metadata": {},
   "source": [
    "From looking at the graphs of the numeric features above, we can make some additional conclusions about the differences between certified and denied applications.\n",
    "\n",
    "In general, it appears that denied applications request more workers than certified applications and are more likely to require a full 40 hours of work a week rather than 35 hours. Moreover, denied applications are also generally associated with additional supervision of other employees, and are characterized by a higher basic rate of pay, number of months of required training, and previous experience.\n",
    "\n",
    "Moreover, using these visualizations, we can also make several additional points about the overall trends of the H-2B applications in the dataset. Most companies' requests are for a few number of workers, as the graph is heavily skewed right, with the vast majority of companies requesting between 0 and 50 workers. The majority of workers work between 35 and 40 hours a week, which is normal for full time workers. As for the basic rate of pay, the majority of workers are getting paid between \\\\$0 and \\\\$40 an hour, with some outliers getting paid a lot more, as the graph is skewed right. We can also see that as validated by the means and medians of the numeric features addressed near the beginning of this notebook, almost all of the workers will be supervising 0 workers, have no training, and be expected to have no previous experience."
   ]
  }
 ],
 "metadata": {
  "kernelspec": {
   "display_name": "Python 3",
   "language": "python",
   "name": "python3"
  },
  "language_info": {
   "codemirror_mode": {
    "name": "ipython",
    "version": 3
   },
   "file_extension": ".py",
   "mimetype": "text/x-python",
   "name": "python",
   "nbconvert_exporter": "python",
   "pygments_lexer": "ipython3",
   "version": "3.7.3"
  }
 },
 "nbformat": 4,
 "nbformat_minor": 4
}
