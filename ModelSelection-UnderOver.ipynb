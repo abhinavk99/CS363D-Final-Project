{
 "cells": [
  {
   "cell_type": "code",
   "execution_count": 16,
   "metadata": {},
   "outputs": [],
   "source": [
    "import sklearn as sk\n",
    "import pandas as pd\n",
    "import warnings\n",
    "warnings.simplefilter(\"ignore\")"
   ]
  },
  {
   "cell_type": "code",
   "execution_count": 17,
   "metadata": {},
   "outputs": [],
   "source": [
    "# First, lets construct the different models that we will use.\n",
    "from sklearn import tree\n",
    "from sklearn import neighbors\n",
    "from sklearn import naive_bayes\n",
    "from sklearn import svm\n",
    "from sklearn import neural_network\n",
    "from sklearn import ensemble\n",
    "\n",
    "# Read data-engineered CSV.\n",
    "df = pd.read_csv('H-2B_Engineered_Data.csv')\n",
    "labels = df.loc[:,'CASE_STATUS']\n",
    "features = pd.DataFrame(df.drop(labels = ['CASE_STATUS'], axis = 1))"
   ]
  },
  {
   "cell_type": "markdown",
   "metadata": {},
   "source": [
    "We will use a pipeline for hosting three steps to take place on the training data within the cross-validation loop:\n",
    "\n",
    "Preprocessing (scaling numeric features, one-hot encoding categorical features), PCA (to reduce dimensionality, especially considering the expansion in dimensionality associated with the one-hot encoding), and class balancing.\n",
    "\n",
    "This notebook is used to test the ClusterCentroids majority class undersampling method, which replaces clusters of majority samples with the cluster centroids determined by a KMeans algorithm on the majority samples, and a random oversampling method for the minority class, as a means of performing class balancing. "
   ]
  },
  {
   "cell_type": "code",
   "execution_count": 4,
   "metadata": {},
   "outputs": [],
   "source": [
    "from sklearn import decomposition\n",
    "from sklearn import preprocessing as pp\n",
    "from sklearn import neighbors as knn\n",
    "from sklearn import pipeline\n",
    "from sklearn import model_selection\n",
    "from sklearn import metrics\n",
    "from sklearn.impute import SimpleImputer\n",
    "from sklearn.compose import ColumnTransformer\n",
    "from sklearn.model_selection import GridSearchCV\n",
    "\n",
    "from imblearn.pipeline import Pipeline\n",
    "from imblearn.under_sampling import ClusterCentroids\n",
    "from imblearn.over_sampling import RandomOverSampler\n",
    "\n",
    "# Build a preprocessor to scale numeric features and one hot encode categorical features.\n",
    "numeric_features = ['NBR_WORKERS_REQUESTED', \n",
    "                    'BASIC_NUMBER_OF_HOURS', \n",
    "                    'BASIC_RATE_OF_PAY', \n",
    "                    'SUPERVISE_HOW_MANY', \n",
    "                    'NUM_OF_MONTHS_TRAINING',\n",
    "                    'EMP_EXP_NUM_MONTHS',\n",
    "                    'WORK_DAY_LENGTH']\n",
    "categorical_features = [\"AGENT_POC_EMP_REP_BY_AGENT\", \n",
    "                        \"SOC_CODE\", \n",
    "                        \"NAICS_CODE\", \n",
    "                        \"FULL_TIME_POSITION\", \n",
    "                        \"NATURE_OF_TEMPORARY_NEED\", \n",
    "                        \"EDUCATION_LEVEL\", \n",
    "                        \"SWA_NAME\", \n",
    "                        \"CITY_MATCH\", \n",
    "                        \"STATE_MATCH\", \n",
    "                        \"DAYTIME_WORK\", \n",
    "                        \"HAS_OVERTIME\"]\n",
    "\n",
    "# Get indices of numeric and categorical feature columns in dataframe.\n",
    "numeric_feature_names = set(numeric_features)\n",
    "categorical_feature_names = set(categorical_features)\n",
    "\n",
    "numeric_feature_indices = []\n",
    "categorical_feature_indices = []\n",
    "\n",
    "for index, column_name in enumerate(features.columns):\n",
    "    if column_name in numeric_feature_names:\n",
    "        numeric_feature_indices.append(index)\n",
    "    elif column_name in categorical_feature_names:\n",
    "        categorical_feature_indices.append(index)\n",
    "\n",
    "# Scale numeric features.\n",
    "numeric_transformer = pipeline.Pipeline(steps=[\n",
    "    ('scaler', pp.StandardScaler())])\n",
    "\n",
    "# One-hot encode categorical features.\n",
    "categorical_transformer = pipeline.Pipeline(steps=[\n",
    "    ('onehot', pp.OneHotEncoder(sparse = False, handle_unknown='ignore'))])\n",
    "\n",
    "preprocessor = ColumnTransformer(\n",
    "    transformers=[\n",
    "        ('num', numeric_transformer, numeric_feature_indices),\n",
    "        ('cat', categorical_transformer, categorical_feature_indices)])\n",
    "        \n",
    "# Utilize the cluster centroids undersampling and the random oversampling methods.\n",
    "random_state_val = 123\n",
    "undersample = ClusterCentroids(sampling_strategy = 0.33, random_state = random_state_val)\n",
    "oversample = RandomOverSampler(sampling_strategy = 1, random_state = random_state_val)"
   ]
  },
  {
   "cell_type": "markdown",
   "metadata": {},
   "source": [
    "Visualization of datapoint distribution, post pre-processing and PCA:"
   ]
  },
  {
   "cell_type": "code",
   "execution_count": 7,
   "metadata": {},
   "outputs": [
    {
     "data": {
      "image/png": "[encoded data removed]",
      "text/plain": [
       "<Figure size 432x288 with 1 Axes>"
      ]
     },
     "metadata": {
      "needs_background": "light"
     },
     "output_type": "display_data"
    }
   ],
   "source": [
    "from sklearn.manifold import MDS\n",
    "import matplotlib.pyplot as plt\n",
    "%matplotlib inline\n",
    "\n",
    "fitted_features = preprocessor.fit_transform(features)\n",
    "pca_features = decomposition.PCA().fit_transform(fitted_features)\n",
    "\n",
    "def scatter(data, labels):\n",
    "    mds = MDS(n_components=2)\n",
    "    mds_data = mds.fit_transform(data[:, :-1])\n",
    "    plt.scatter(mds_data[:, 0], mds_data[:, 1], c=labels, s=50)\n",
    "    plt.show()\n",
    "\n",
    "scatter(pca_features, labels)"
   ]
  },
  {
   "cell_type": "markdown",
   "metadata": {},
   "source": [
    "As can be seen from this visualization, there may be difficulties associated with accurately distinguishing between samples from the majority and minority classes, and this may be reflected in diminished precision and recall scores associated with identifying the minority class."
   ]
  },
  {
   "cell_type": "markdown",
   "metadata": {},
   "source": [
    "Here, we'll be determining the best parameters for Decision Tree, K Nearest Neighbors, SVM, Random Forest Classifier, and MLP Classifier."
   ]
  },
  {
   "cell_type": "code",
   "execution_count": 8,
   "metadata": {},
   "outputs": [
    {
     "name": "stdout",
     "output_type": "stream",
     "text": [
      "{'tree__max_depth': 5}\n",
      "0.8255351681957187\n"
     ]
    }
   ],
   "source": [
    "# Decision Tree\n",
    "# Testing additional parameters takes excessive amount of time, unable to run to completion.\n",
    "tuned_parameters = {\n",
    "    'tree__max_depth': [5, 10, 15, 20],\n",
    "}\n",
    "pipe = Pipeline(steps = [('preprocess', preprocessor), ('dim', decomposition.PCA()), ('undersample', undersample), ('oversample', oversample), ('tree', tree.DecisionTreeClassifier())])\n",
    "tree_model = GridSearchCV(pipe, param_grid=tuned_parameters, scoring='accuracy', cv=5)\n",
    "tree_model.fit(features, labels)\n",
    "print(tree_model.best_params_)\n",
    "print(tree_model.best_score_)"
   ]
  },
  {
   "cell_type": "code",
   "execution_count": 9,
   "metadata": {},
   "outputs": [
    {
     "name": "stdout",
     "output_type": "stream",
     "text": [
      "{'knn__n_neighbors': 1}\n",
      "0.8134556574923547\n"
     ]
    }
   ],
   "source": [
    "# K Nearest Neighbors\n",
    "tuned_parameters = {\n",
    "    'knn__n_neighbors': list(range(1, 25))\n",
    "}\n",
    "pipe = Pipeline(steps = [('preprocess', preprocessor), ('dim', decomposition.PCA()), ('undersample', undersample), ('oversample', oversample), ('knn', neighbors.KNeighborsClassifier())])\n",
    "knn_model = GridSearchCV(pipe, param_grid=tuned_parameters, scoring='accuracy', cv=5)\n",
    "knn_model.fit(features, labels)\n",
    "print(knn_model.best_params_)\n",
    "print(knn_model.best_score_)"
   ]
  },
  {
   "cell_type": "code",
   "execution_count": 10,
   "metadata": {},
   "outputs": [
    {
     "name": "stdout",
     "output_type": "stream",
     "text": [
      "{'svm__loss': 'squared_hinge'}\n",
      "0.8307339449541284\n"
     ]
    }
   ],
   "source": [
    "from sklearn.svm import LinearSVC\n",
    "\n",
    "# Linear Support Vector Classifier\n",
    "# Again, since undersampling / oversampling takes longer than solely applying SMOTENC,\n",
    "# testing additional hyperparameters takes excessive amount of time, unable to run to completion.\n",
    "tuned_parameters = {\n",
    "    \"svm__loss\": ['hinge', 'squared_hinge'],\n",
    "}\n",
    "\n",
    "svc = LinearSVC()\n",
    "\n",
    "pipe = Pipeline(steps = [('preprocess', preprocessor), ('dim', decomposition.PCA()), ('undersample', undersample), ('oversample', oversample), ('svm', svc)])\n",
    "svm_model = GridSearchCV(pipe, param_grid=tuned_parameters, scoring='accuracy', cv=5)\n",
    "svm_model.fit(features, labels)\n",
    "print(svm_model.best_params_)\n",
    "print(svm_model.best_score_)"
   ]
  },
  {
   "cell_type": "code",
   "execution_count": 11,
   "metadata": {},
   "outputs": [
    {
     "name": "stdout",
     "output_type": "stream",
     "text": [
      "{'net__activation': 'logistic', 'net__solver': 'sgd'}\n",
      "0.8351681957186544\n"
     ]
    }
   ],
   "source": [
    "# Neural Network\n",
    "tuned_parameters = {\n",
    "    'net__activation': ['logistic', 'tanh', 'relu'],\n",
    "    'net__solver': ['sgd', 'adam']\n",
    "}\n",
    "pipe = Pipeline(steps = [('preprocess', preprocessor), ('dim', decomposition.PCA()), ('undersample', undersample), ('oversample', oversample), ('net', neural_network.MLPClassifier())])\n",
    "net_model = GridSearchCV(pipe, param_grid=tuned_parameters, scoring='accuracy', cv=5)\n",
    "net_model.fit(features, labels)\n",
    "print(net_model.best_params_)\n",
    "print(net_model.best_score_)\n",
    "\n",
    "warnings.simplefilter(\"default\")"
   ]
  },
  {
   "cell_type": "code",
   "execution_count": 12,
   "metadata": {
    "scrolled": true
   },
   "outputs": [
    {
     "name": "stdout",
     "output_type": "stream",
     "text": [
      "{'rfc__max_depth': 55, 'rfc__max_features': 'log2', 'rfc__min_samples_leaf': 8}\n",
      "0.8123853211009174\n"
     ]
    }
   ],
   "source": [
    "warnings.simplefilter(\"ignore\")\n",
    "# Random Forest Classifier\n",
    "tuned_parameters = {\n",
    "    'rfc__max_depth': list(range(35, 56)),\n",
    "    'rfc__min_samples_leaf': list(range(8, 13, 2)),\n",
    "    'rfc__max_features': ['sqrt', 'log2']\n",
    "}\n",
    "\n",
    "pipe = Pipeline(steps = [('preprocess', preprocessor), ('dim', decomposition.PCA()), ('undersample', undersample), ('oversample', oversample), ('rfc', ensemble.RandomForestClassifier(n_estimators=10))])\n",
    "rfc_model = GridSearchCV(pipe, param_grid=tuned_parameters, scoring='accuracy', cv=5)\n",
    "rfc_model.fit(features, labels)\n",
    "print(rfc_model.best_params_)\n",
    "print(rfc_model.best_score_)"
   ]
  },
  {
   "cell_type": "markdown",
   "metadata": {},
   "source": [
    "Now, we create our classifiers based on the best tuned parameters.\n",
    "\n",
    "We use these classifiers to create an ensemble voting classifier, hosting a Decision Tree, Random Forest, KNN, Gaussian Naive Bayes, Linear Support Vector Classifier, and Neural Network classifier."
   ]
  },
  {
   "cell_type": "code",
   "execution_count": 18,
   "metadata": {},
   "outputs": [],
   "source": [
    "classifiers = []\n",
    "\n",
    "# Classifiers.\n",
    "tree = tree.DecisionTreeClassifier(criterion='entropy', max_depth=5)\n",
    "classifiers.append(('tree', tree))\n",
    "\n",
    "rfc = ensemble.RandomForestClassifier(n_estimators=10, max_depth=55, max_features='log2', min_samples_leaf=8)\n",
    "classifiers.append(('rfc', rfc))\n",
    "\n",
    "knn = neighbors.KNeighborsClassifier(n_neighbors=1)\n",
    "classifiers.append(('knn', knn))\n",
    "\n",
    "nb = naive_bayes.GaussianNB()\n",
    "classifiers.append(('nb', nb))\n",
    "\n",
    "sv = LinearSVC(loss='squared_hinge')\n",
    "classifiers.append(('svm', sv))\n",
    "\n",
    "net = neural_network.MLPClassifier(activation='logistic', solver='sgd')\n",
    "classifiers.append(('neural_network', net))"
   ]
  },
  {
   "cell_type": "code",
   "execution_count": 19,
   "metadata": {},
   "outputs": [
    {
     "name": "stdout",
     "output_type": "stream",
     "text": [
      "DecisionTreeClassifier(class_weight=None, criterion='entropy', max_depth=5,\n",
      "                       max_features=None, max_leaf_nodes=None,\n",
      "                       min_impurity_decrease=0.0, min_impurity_split=None,\n",
      "                       min_samples_leaf=1, min_samples_split=2,\n",
      "                       min_weight_fraction_leaf=0.0, presort=False,\n",
      "                       random_state=None, splitter='best')\n",
      "[[ 418  371]\n",
      " [ 770 4981]]\n",
      "              precision    recall  f1-score   support\n",
      "\n",
      "           0       0.35      0.53      0.42       789\n",
      "           1       0.93      0.87      0.90      5751\n",
      "\n",
      "    accuracy                           0.83      6540\n",
      "   macro avg       0.64      0.70      0.66      6540\n",
      "weighted avg       0.86      0.83      0.84      6540\n",
      "\n",
      "RandomForestClassifier(bootstrap=True, class_weight=None, criterion='gini',\n",
      "                       max_depth=55, max_features='log2', max_leaf_nodes=None,\n",
      "                       min_impurity_decrease=0.0, min_impurity_split=None,\n",
      "                       min_samples_leaf=8, min_samples_split=2,\n",
      "                       min_weight_fraction_leaf=0.0, n_estimators=10,\n",
      "                       n_jobs=None, oob_score=False, random_state=None,\n",
      "                       verbose=0, warm_start=False)\n",
      "[[ 469  320]\n",
      " [1011 4740]]\n",
      "              precision    recall  f1-score   support\n",
      "\n",
      "           0       0.32      0.59      0.41       789\n",
      "           1       0.94      0.82      0.88      5751\n",
      "\n",
      "    accuracy                           0.80      6540\n",
      "   macro avg       0.63      0.71      0.65      6540\n",
      "weighted avg       0.86      0.80      0.82      6540\n",
      "\n",
      "KNeighborsClassifier(algorithm='auto', leaf_size=30, metric='minkowski',\n",
      "                     metric_params=None, n_jobs=None, n_neighbors=1, p=2,\n",
      "                     weights='uniform')\n",
      "[[ 345  444]\n",
      " [ 776 4975]]\n",
      "              precision    recall  f1-score   support\n",
      "\n",
      "           0       0.31      0.44      0.36       789\n",
      "           1       0.92      0.87      0.89      5751\n",
      "\n",
      "    accuracy                           0.81      6540\n",
      "   macro avg       0.61      0.65      0.63      6540\n",
      "weighted avg       0.84      0.81      0.83      6540\n",
      "\n",
      "GaussianNB(priors=None, var_smoothing=1e-09)\n",
      "[[ 192  597]\n",
      " [ 227 5524]]\n",
      "              precision    recall  f1-score   support\n",
      "\n",
      "           0       0.46      0.24      0.32       789\n",
      "           1       0.90      0.96      0.93      5751\n",
      "\n",
      "    accuracy                           0.87      6540\n",
      "   macro avg       0.68      0.60      0.62      6540\n",
      "weighted avg       0.85      0.87      0.86      6540\n",
      "\n",
      "LinearSVC(C=1.0, class_weight=None, dual=True, fit_intercept=True,\n",
      "          intercept_scaling=1, loss='squared_hinge', max_iter=1000,\n",
      "          multi_class='ovr', penalty='l2', random_state=None, tol=0.0001,\n",
      "          verbose=0)\n",
      "[[ 552  237]\n",
      " [ 871 4880]]\n",
      "              precision    recall  f1-score   support\n",
      "\n",
      "           0       0.39      0.70      0.50       789\n",
      "           1       0.95      0.85      0.90      5751\n",
      "\n",
      "    accuracy                           0.83      6540\n",
      "   macro avg       0.67      0.77      0.70      6540\n",
      "weighted avg       0.89      0.83      0.85      6540\n",
      "\n",
      "MLPClassifier(activation='logistic', alpha=0.0001, batch_size='auto',\n",
      "              beta_1=0.9, beta_2=0.999, early_stopping=False, epsilon=1e-08,\n",
      "              hidden_layer_sizes=(100,), learning_rate='constant',\n",
      "              learning_rate_init=0.001, max_iter=200, momentum=0.9,\n",
      "              n_iter_no_change=10, nesterovs_momentum=True, power_t=0.5,\n",
      "              random_state=None, shuffle=True, solver='sgd', tol=0.0001,\n",
      "              validation_fraction=0.1, verbose=False, warm_start=False)\n",
      "[[ 541  248]\n",
      " [ 829 4922]]\n",
      "              precision    recall  f1-score   support\n",
      "\n",
      "           0       0.39      0.69      0.50       789\n",
      "           1       0.95      0.86      0.90      5751\n",
      "\n",
      "    accuracy                           0.84      6540\n",
      "   macro avg       0.67      0.77      0.70      6540\n",
      "weighted avg       0.88      0.84      0.85      6540\n",
      "\n"
     ]
    }
   ],
   "source": [
    "# Results from the Individual Classifiers.\n",
    "\n",
    "warnings.simplefilter(\"ignore\")\n",
    "\n",
    "for name, cl in classifiers:\n",
    "    pipe = Pipeline(steps = [('preprocess', preprocessor), ('dim', decomposition.PCA()), ('undersample', undersample), ('oversample', oversample), ('classifier', cl)])\n",
    "    pr = model_selection.cross_val_predict(pipe, features, labels, cv=5)\n",
    "    \n",
    "    print(cl)\n",
    "    print(metrics.confusion_matrix(labels, pr))\n",
    "    print(metrics.classification_report(labels, pr))\n",
    "    \n",
    "warnings.simplefilter(\"default\")"
   ]
  },
  {
   "cell_type": "code",
   "execution_count": 20,
   "metadata": {},
   "outputs": [
    {
     "name": "stdout",
     "output_type": "stream",
     "text": [
      "VotingClassifier(estimators=[('tree',\n",
      "                              DecisionTreeClassifier(class_weight=None,\n",
      "                                                     criterion='entropy',\n",
      "                                                     max_depth=5,\n",
      "                                                     max_features=None,\n",
      "                                                     max_leaf_nodes=None,\n",
      "                                                     min_impurity_decrease=0.0,\n",
      "                                                     min_impurity_split=None,\n",
      "                                                     min_samples_leaf=1,\n",
      "                                                     min_samples_split=2,\n",
      "                                                     min_weight_fraction_leaf=0.0,\n",
      "                                                     presort=False,\n",
      "                                                     random_state=None,\n",
      "                                                     splitter='best')),\n",
      "                             ('rfc',\n",
      "                              RandomForestClassifier(boot...\n",
      "                                            beta_2=0.999, early_stopping=False,\n",
      "                                            epsilon=1e-08,\n",
      "                                            hidden_layer_sizes=(100,),\n",
      "                                            learning_rate='constant',\n",
      "                                            learning_rate_init=0.001,\n",
      "                                            max_iter=200, momentum=0.9,\n",
      "                                            n_iter_no_change=10,\n",
      "                                            nesterovs_momentum=True,\n",
      "                                            power_t=0.5, random_state=None,\n",
      "                                            shuffle=True, solver='sgd',\n",
      "                                            tol=0.0001, validation_fraction=0.1,\n",
      "                                            verbose=False, warm_start=False))],\n",
      "                 flatten_transform=True, n_jobs=None, voting='hard',\n",
      "                 weights=None)\n",
      "[[ 511  278]\n",
      " [ 699 5052]]\n",
      "              precision    recall  f1-score   support\n",
      "\n",
      "           0       0.42      0.65      0.51       789\n",
      "           1       0.95      0.88      0.91      5751\n",
      "\n",
      "    accuracy                           0.85      6540\n",
      "   macro avg       0.69      0.76      0.71      6540\n",
      "weighted avg       0.88      0.85      0.86      6540\n",
      "\n"
     ]
    }
   ],
   "source": [
    "# Creation of soft voting ensemble clssifier.\n",
    "voting = ensemble.VotingClassifier(classifiers)\n",
    "\n",
    "pipe = Pipeline(steps = [('preprocess', preprocessor), ('dim', decomposition.PCA()), ('undersample', undersample), ('oversample', oversample), ('classifier', voting)])\n",
    "\n",
    "warnings.simplefilter(\"ignore\")\n",
    "pr = model_selection.cross_val_predict(pipe, features, labels, cv=5)\n",
    "warnings.simplefilter(\"default\")\n",
    "    \n",
    "print(voting)\n",
    "print(metrics.confusion_matrix(labels, pr))\n",
    "print(metrics.classification_report(labels, pr))"
   ]
  }
 ],
 "metadata": {
  "kernelspec": {
   "display_name": "Python 3",
   "language": "python",
   "name": "python3"
  },
  "language_info": {
   "codemirror_mode": {
    "name": "ipython",
    "version": 3
   },
   "file_extension": ".py",
   "mimetype": "text/x-python",
   "name": "python",
   "nbconvert_exporter": "python",
   "pygments_lexer": "ipython3",
   "version": "3.7.3"
  }
 },
 "nbformat": 4,
 "nbformat_minor": 4
}
